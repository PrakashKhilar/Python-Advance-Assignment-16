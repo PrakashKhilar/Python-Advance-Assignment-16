{
 "cells": [
  {
   "cell_type": "markdown",
   "id": "499cdf10",
   "metadata": {},
   "source": [
    "# Advance Assignment-16"
   ]
  },
  {
   "cell_type": "code",
   "execution_count": 1,
   "id": "134b946f",
   "metadata": {},
   "outputs": [],
   "source": [
    "# Q1. What is the benefit of regular expressions?"
   ]
  },
  {
   "cell_type": "code",
   "execution_count": null,
   "id": "09443c18",
   "metadata": {},
   "outputs": [],
   "source": [
    "# Ans;\n",
    "\n",
    "Regular Expressions, also known as regex or regexp, are used to match strings of text such as particular characters, words, or patterns of characters. \n",
    "It means that we can match and extract any string pattern from the text with the help of regular expressions. \n",
    "It helps the programmers to Write less and cleaner code. \n",
    "It also avoids multiple use of if/else statements. Regular expressions are a powerful feature of any language and solve a particular class of problems extraordinarily well. \n",
    "They can be used to validate user input, extract relevant data from a string, or even modify a string based on its contents.\n",
    "\n",
    "Python's regular expression library is called \"re\" and is based on Perl's regular expression engine, which is pretty much an industry standard now."
   ]
  },
  {
   "cell_type": "code",
   "execution_count": 3,
   "id": "7dc888b9",
   "metadata": {},
   "outputs": [],
   "source": [
    "# Q2. Describe the difference between the effects of \"(ab)c+\" and \"a(bc)+\" Which of these,\n",
    "#    if any, is the unqualified pattern \"abc+\"?"
   ]
  },
  {
   "cell_type": "code",
   "execution_count": null,
   "id": "018ad1c4",
   "metadata": {},
   "outputs": [],
   "source": [
    "# Ans;\n",
    "\n",
    "Both (ab)c+ and a(bc)+ are valid patterns.\n",
    "The difference between both these patterns is that in (ab)c+ ab is a group whereas in a(bc)+ bc is a group.\n",
    "Capturing groups are a way to treat multiple characters as a single unit. \n",
    "\n",
    "They are created by placing the characters to be grouped inside a set of parentheses."
   ]
  },
  {
   "cell_type": "code",
   "execution_count": 4,
   "id": "0845117f",
   "metadata": {},
   "outputs": [],
   "source": [
    "# Q3. How much do you need to use the following sentence while using regular expressions? \n",
    "#     import re "
   ]
  },
  {
   "cell_type": "code",
   "execution_count": null,
   "id": "2b91a0bd",
   "metadata": {},
   "outputs": [],
   "source": [
    "# Ans;\n",
    "\n",
    "import re statement always has to be imported before using regular expressions. \n",
    "In a program, we need to import this once so that we can use Regular Expressions subsequently."
   ]
  },
  {
   "cell_type": "code",
   "execution_count": 5,
   "id": "3e311412",
   "metadata": {},
   "outputs": [],
   "source": [
    "# Q4. Which characters have special significance in square brackets when expressing a range, and under what circumstances?"
   ]
  },
  {
   "cell_type": "code",
   "execution_count": null,
   "id": "83fc999d",
   "metadata": {},
   "outputs": [],
   "source": [
    "# Ans;\n",
    "\n",
    "The Characters .,*,?,^,or,(), have a special signiface when used with square brackets. \n",
    "They need not be be explicitly escaped by \\ as in case of pattern texts in a raw string. \n",
    "Range in Regular Expressions Ranges of characters can be indicated by giving two characters and separating them by a ‘-‘, \n",
    "\n",
    "for example [a-z] will match any lowercase ASCII letter, [0-5][0-9] will match all the two-digits numbers from 00 to 59."
   ]
  },
  {
   "cell_type": "code",
   "execution_count": 6,
   "id": "95eb615c",
   "metadata": {},
   "outputs": [],
   "source": [
    "# Q5. How does compiling a regular-expression object benefit you?"
   ]
  },
  {
   "cell_type": "code",
   "execution_count": null,
   "id": "0a50ffd5",
   "metadata": {},
   "outputs": [],
   "source": [
    "# Ans;\n",
    "\n",
    "We can Combine a regular expression pattern into pattern Objects which can be used for pattern matching. \n",
    "It also helps to search a pattern again without rewriting it."
   ]
  },
  {
   "cell_type": "code",
   "execution_count": 7,
   "id": "3b60f838",
   "metadata": {},
   "outputs": [],
   "source": [
    "# Q6. What are some examples of how to use the match object returned by re.match and re.search?"
   ]
  },
  {
   "cell_type": "code",
   "execution_count": null,
   "id": "4383ec72",
   "metadata": {},
   "outputs": [],
   "source": [
    "# Ans;\n",
    "\n",
    "The re.search() and re.match() both are functions of re module in python.\n",
    "These functions are very efficient and fast for searching in strings.\n",
    "\n",
    "The function searches for some substring in a string and returns a match object if found, else it returns none.\n",
    "\n",
    "\n",
    "There is a difference between the use of both functions. \n",
    "Both return the first match of a substring found in the string, but re.match() searches only from the beginning of the string and return match object if found. \n",
    "But if a match of substring is found somewhere in the middle of the string, it returns none.\n",
    "\n",
    "Where as re.search() searches for the whole string even if the string contains multi-lines and tries to find a match of the substring in all the lines of string"
   ]
  },
  {
   "cell_type": "code",
   "execution_count": 8,
   "id": "b28c1bc8",
   "metadata": {},
   "outputs": [
    {
     "name": "stdout",
     "output_type": "stream",
     "text": [
      "<re.Match object; span=(61, 67), match='string'>\n",
      "None\n",
      "<re.Match object; span=(0, 6), match='string'>\n",
      "<re.Match object; span=(0, 6), match='string'>\n"
     ]
    }
   ],
   "source": [
    "import re\n",
    "Substring ='string' \n",
    "String1 ='We are learning regex with iNeuron. Regex is very useful for string matching. It is fast too.' \n",
    "String2 ='string We are learning regex with iNeuron. Regex is very useful for string matching. It is fast too.'\n",
    "print(re.search(Substring, String1, re.IGNORECASE))\n",
    "print(re.match(Substring, String1, re.IGNORECASE))\n",
    "print(re.search(Substring, String2, re.IGNORECASE))\n",
    "print(re.match(Substring, String2, re.IGNORECASE))"
   ]
  },
  {
   "cell_type": "code",
   "execution_count": 9,
   "id": "d0622c75",
   "metadata": {},
   "outputs": [],
   "source": [
    "# Q7. What is the difference between using a vertical bar (|) as an alteration and using square brackets as a character set?"
   ]
  },
  {
   "cell_type": "code",
   "execution_count": null,
   "id": "b8175ed8",
   "metadata": {},
   "outputs": [],
   "source": [
    "# Ans;\n",
    "\n",
    "When | us used then patterns searches for or option. i.e | means it searches as or< in the searched string. \n",
    "The first occurance of matched string will be returned as the Match Object.\n",
    "\n",
    "Using Character set in square Brackets searches for all the character set in the square bracket and if match is found, it returns it."
   ]
  },
  {
   "cell_type": "code",
   "execution_count": 10,
   "id": "20e69304",
   "metadata": {},
   "outputs": [],
   "source": [
    "#For example\n",
    "#[p – t] = [ pqrst ]\n",
    "#For example, (x|y|z)ab match by any string-like, x, y, z, a, b."
   ]
  },
  {
   "cell_type": "code",
   "execution_count": 11,
   "id": "c87fe6f6",
   "metadata": {},
   "outputs": [],
   "source": [
    "# Q8. In regular-expression search patterns, why is it necessary to use the raw-string indicator (r)? In replacement strings?\n"
   ]
  },
  {
   "cell_type": "code",
   "execution_count": null,
   "id": "649f35d3",
   "metadata": {},
   "outputs": [],
   "source": [
    "# Ans;\n",
    "\n",
    "Raw Strings are used in the regular-expression search patterns, so that backslash do not have to be escaped. \n",
    "When one wants to match a literal backslash, it must be escaped in the regular expression. \n",
    "\n",
    "With raw string notation, this means r\"\\\". Without raw string notation, one must use 4 times back slashes"
   ]
  }
 ],
 "metadata": {
  "kernelspec": {
   "display_name": "Python 3 (ipykernel)",
   "language": "python",
   "name": "python3"
  },
  "language_info": {
   "codemirror_mode": {
    "name": "ipython",
    "version": 3
   },
   "file_extension": ".py",
   "mimetype": "text/x-python",
   "name": "python",
   "nbconvert_exporter": "python",
   "pygments_lexer": "ipython3",
   "version": "3.9.12"
  }
 },
 "nbformat": 4,
 "nbformat_minor": 5
}
